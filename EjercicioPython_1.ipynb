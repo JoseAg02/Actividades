{
  "nbformat": 4,
  "nbformat_minor": 0,
  "metadata": {
    "colab": {
      "provenance": [],
      "authorship_tag": "ABX9TyMYsP+v5LcC/G75sDHuVki8",
      "include_colab_link": true
    },
    "kernelspec": {
      "name": "python3",
      "display_name": "Python 3"
    },
    "language_info": {
      "name": "python"
    }
  },
  "cells": [
    {
      "cell_type": "markdown",
      "metadata": {
        "id": "view-in-github",
        "colab_type": "text"
      },
      "source": [
        "<a href=\"https://colab.research.google.com/github/JoseAg02/Actividades/blob/main/EjercicioPython_1.ipynb\" target=\"_parent\"><img src=\"https://colab.research.google.com/assets/colab-badge.svg\" alt=\"Open In Colab\"/></a>"
      ]
    },
    {
      "cell_type": "markdown",
      "source": [
        "A2: Ejercicios en Pyhton, José de Jesús Aguilar Arias, 1955193, Sabatino N1"
      ],
      "metadata": {
        "id": "pD7R_1bSvvjJ"
      }
    },
    {
      "cell_type": "code",
      "source": [
        "numero = int(input(\"Ingresa un número: \"))\n",
        "\n",
        "if numero % 2 == 0:\n",
        "    print(f\"{numero} es un número par.\")\n",
        "else:\n",
        "    print(f\"{numero} es un número impar.\")"
      ],
      "metadata": {
        "colab": {
          "base_uri": "https://localhost:8080/"
        },
        "id": "oqyYwtV-v3Qv",
        "outputId": "c7b7b888-b148-4dcc-e3d1-3572271ce6de"
      },
      "execution_count": 2,
      "outputs": [
        {
          "output_type": "stream",
          "name": "stdout",
          "text": [
            "Ingresa un número: 6\n",
            "6 es un número par.\n"
          ]
        }
      ]
    },
    {
      "cell_type": "code",
      "source": [
        "entrada_usuario = input(\"Ingresa una lista de números: \")\n",
        "\n",
        "numeros = entrada_usuario.split()\n",
        "\n",
        "numeros = [int(numero) for numero in numeros]\n",
        "\n",
        "numeros_inversos = numeros[::-1]\n",
        "\n",
        "print(\"Lista en orden inverso:\", numeros_inversos)"
      ],
      "metadata": {
        "colab": {
          "base_uri": "https://localhost:8080/"
        },
        "id": "XmqvyN0PwYGo",
        "outputId": "6818c6bb-2ccb-453a-fc31-a4f7d79cc34b"
      },
      "execution_count": 3,
      "outputs": [
        {
          "output_type": "stream",
          "name": "stdout",
          "text": [
            "Ingresa una lista de números: 5 7 3 15 89 10 54\n",
            "Lista en orden inverso: [54, 10, 89, 15, 3, 7, 5]\n"
          ]
        }
      ]
    },
    {
      "cell_type": "code",
      "source": [
        "import random\n",
        "\n",
        "numero_objetivo = random.randint(1, 100)\n",
        "\n",
        "intentos = 0\n",
        "\n",
        "print(\"¡Adivina el número entre 1 y 100!\")\n",
        "\n",
        "while True:\n",
        "    intento = int(input(\"Adivina el número: \"))\n",
        "\n",
        "    intentos += 1\n",
        "\n",
        "    if intento == numero_objetivo:\n",
        "        print(f\"¡Correcto! Has adivinado el número {numero_objetivo} en {intentos} intentos.\")\n",
        "        break\n",
        "    elif intento < numero_objetivo:\n",
        "        print(\"El número es mayor. Intenta nuevamente.\")\n",
        "    else:\n",
        "        print(\"El número es menor. Intenta nuevamente.\")"
      ],
      "metadata": {
        "colab": {
          "base_uri": "https://localhost:8080/"
        },
        "id": "6qQZewJjw-dJ",
        "outputId": "81ba7da8-f240-4b0f-b62b-0ca905032f3a"
      },
      "execution_count": 4,
      "outputs": [
        {
          "output_type": "stream",
          "name": "stdout",
          "text": [
            "¡Adivina el número entre 1 y 100!\n",
            "Adivina el número: 59\n",
            "El número es menor. Intenta nuevamente.\n",
            "Adivina el número: 50\n",
            "El número es menor. Intenta nuevamente.\n",
            "Adivina el número: 40\n",
            "El número es mayor. Intenta nuevamente.\n",
            "Adivina el número: 45\n",
            "El número es menor. Intenta nuevamente.\n",
            "Adivina el número: 42\n",
            "El número es mayor. Intenta nuevamente.\n",
            "Adivina el número: 43\n",
            "El número es mayor. Intenta nuevamente.\n",
            "Adivina el número: 44\n",
            "¡Correcto! Has adivinado el número 44 en 7 intentos.\n"
          ]
        }
      ]
    },
    {
      "cell_type": "code",
      "source": [
        "def es_primo(numero):\n",
        "    if numero <= 1:\n",
        "        return False\n",
        "    elif numero <= 3:\n",
        "        return True\n",
        "    elif numero % 2 == 0 or numero % 3 == 0:\n",
        "        return False\n",
        "    i = 5\n",
        "    while i * i <= numero:\n",
        "        if numero % i == 0 or numero % (i + 2) == 0:\n",
        "            return False\n",
        "        i += 6\n",
        "    return True\n",
        "\n",
        "inicio = int(input(\"Ingresa el número inicial: \"))\n",
        "fin = int(input(\"Ingresa el número final: \"))\n",
        "\n",
        "print(f\"Los números primos en el rango de {inicio} a {fin} son:\")\n",
        "\n",
        "for numero in range(inicio, fin + 1):\n",
        "    if es_primo(numero):\n",
        "        print(numero)"
      ],
      "metadata": {
        "colab": {
          "base_uri": "https://localhost:8080/"
        },
        "id": "gYRW0ItIx4Rz",
        "outputId": "d8a22e86-ddee-4ed5-96d7-bd58f7918053"
      },
      "execution_count": 5,
      "outputs": [
        {
          "output_type": "stream",
          "name": "stdout",
          "text": [
            "Ingresa el número inicial: 1\n",
            "Ingresa el número final: 100\n",
            "Los números primos en el rango de 1 a 100 son:\n",
            "2\n",
            "3\n",
            "5\n",
            "7\n",
            "11\n",
            "13\n",
            "17\n",
            "19\n",
            "23\n",
            "29\n",
            "31\n",
            "37\n",
            "41\n",
            "43\n",
            "47\n",
            "53\n",
            "59\n",
            "61\n",
            "67\n",
            "71\n",
            "73\n",
            "79\n",
            "83\n",
            "89\n",
            "97\n"
          ]
        }
      ]
    }
  ]
}