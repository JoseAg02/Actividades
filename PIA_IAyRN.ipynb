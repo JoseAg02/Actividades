{
  "nbformat": 4,
  "nbformat_minor": 0,
  "metadata": {
    "colab": {
      "provenance": [],
      "include_colab_link": true
    },
    "kernelspec": {
      "name": "python3",
      "display_name": "Python 3"
    },
    "language_info": {
      "name": "python"
    }
  },
  "cells": [
    {
      "cell_type": "markdown",
      "metadata": {
        "id": "view-in-github",
        "colab_type": "text"
      },
      "source": [
        "<a href=\"https://colab.research.google.com/github/JoseAg02/Actividades/blob/main/PIA_IAyRN.ipynb\" target=\"_parent\"><img src=\"https://colab.research.google.com/assets/colab-badge.svg\" alt=\"Open In Colab\"/></a>"
      ]
    },
    {
      "cell_type": "markdown",
      "source": [
        "*Jose de Jesus Aguilar 1955193\n",
        "\n",
        "*Mauricio Alejandro Reyna Miranda 2077482\n",
        "\n",
        "*Ivan Martínez Fabian 1920753\n",
        "\n",
        "\n",
        "\n",
        "\n",
        "\n",
        "\n"
      ],
      "metadata": {
        "id": "o6ZJvPJdHrHN"
      }
    },
    {
      "cell_type": "code",
      "execution_count": null,
      "metadata": {
        "id": "PouWrROPpXsX"
      },
      "outputs": [],
      "source": [
        "import matplotlib.pyplot as plt\n",
        "import cv2\n",
        "from sklearn.model_selection import train_test_split\n",
        "import numpy as np\n",
        "import glob\n",
        "import os\n",
        "import tensorflow as tf\n",
        "from tensorflow.keras import datasets, layers, models"
      ]
    },
    {
      "cell_type": "code",
      "source": [
        "!pip install kaggle\n",
        "from google.colab import files\n",
        "files.upload()\n",
        "!mkdir -p ~/.kaggle\n",
        "!cp kaggle.json ~/.kaggle/\n",
        "!chmod 600 ~/.kaggle/kaggle.json"
      ],
      "metadata": {
        "colab": {
          "base_uri": "https://localhost:8080/",
          "height": 264
        },
        "id": "rkfW-vlxpaGl",
        "outputId": "874d7f6e-132c-457f-878a-5e29dd7ccd92"
      },
      "execution_count": null,
      "outputs": [
        {
          "output_type": "stream",
          "name": "stdout",
          "text": [
            "Requirement already satisfied: kaggle in /usr/local/lib/python3.10/dist-packages (1.5.16)\n",
            "Requirement already satisfied: six>=1.10 in /usr/local/lib/python3.10/dist-packages (from kaggle) (1.16.0)\n",
            "Requirement already satisfied: certifi in /usr/local/lib/python3.10/dist-packages (from kaggle) (2023.7.22)\n",
            "Requirement already satisfied: python-dateutil in /usr/local/lib/python3.10/dist-packages (from kaggle) (2.8.2)\n",
            "Requirement already satisfied: requests in /usr/local/lib/python3.10/dist-packages (from kaggle) (2.31.0)\n",
            "Requirement already satisfied: tqdm in /usr/local/lib/python3.10/dist-packages (from kaggle) (4.66.1)\n",
            "Requirement already satisfied: python-slugify in /usr/local/lib/python3.10/dist-packages (from kaggle) (8.0.1)\n",
            "Requirement already satisfied: urllib3 in /usr/local/lib/python3.10/dist-packages (from kaggle) (2.0.7)\n",
            "Requirement already satisfied: bleach in /usr/local/lib/python3.10/dist-packages (from kaggle) (6.1.0)\n",
            "Requirement already satisfied: webencodings in /usr/local/lib/python3.10/dist-packages (from bleach->kaggle) (0.5.1)\n",
            "Requirement already satisfied: text-unidecode>=1.3 in /usr/local/lib/python3.10/dist-packages (from python-slugify->kaggle) (1.3)\n",
            "Requirement already satisfied: charset-normalizer<4,>=2 in /usr/local/lib/python3.10/dist-packages (from requests->kaggle) (3.3.1)\n",
            "Requirement already satisfied: idna<4,>=2.5 in /usr/local/lib/python3.10/dist-packages (from requests->kaggle) (3.4)\n"
          ]
        },
        {
          "output_type": "display_data",
          "data": {
            "text/plain": [
              "<IPython.core.display.HTML object>"
            ],
            "text/html": [
              "\n",
              "     <input type=\"file\" id=\"files-01a9bc66-9269-49ba-8832-7ddf3acf09cb\" name=\"files[]\" multiple disabled\n",
              "        style=\"border:none\" />\n",
              "     <output id=\"result-01a9bc66-9269-49ba-8832-7ddf3acf09cb\">\n",
              "      Upload widget is only available when the cell has been executed in the\n",
              "      current browser session. Please rerun this cell to enable.\n",
              "      </output>\n",
              "      <script>// Copyright 2017 Google LLC\n",
              "//\n",
              "// Licensed under the Apache License, Version 2.0 (the \"License\");\n",
              "// you may not use this file except in compliance with the License.\n",
              "// You may obtain a copy of the License at\n",
              "//\n",
              "//      http://www.apache.org/licenses/LICENSE-2.0\n",
              "//\n",
              "// Unless required by applicable law or agreed to in writing, software\n",
              "// distributed under the License is distributed on an \"AS IS\" BASIS,\n",
              "// WITHOUT WARRANTIES OR CONDITIONS OF ANY KIND, either express or implied.\n",
              "// See the License for the specific language governing permissions and\n",
              "// limitations under the License.\n",
              "\n",
              "/**\n",
              " * @fileoverview Helpers for google.colab Python module.\n",
              " */\n",
              "(function(scope) {\n",
              "function span(text, styleAttributes = {}) {\n",
              "  const element = document.createElement('span');\n",
              "  element.textContent = text;\n",
              "  for (const key of Object.keys(styleAttributes)) {\n",
              "    element.style[key] = styleAttributes[key];\n",
              "  }\n",
              "  return element;\n",
              "}\n",
              "\n",
              "// Max number of bytes which will be uploaded at a time.\n",
              "const MAX_PAYLOAD_SIZE = 100 * 1024;\n",
              "\n",
              "function _uploadFiles(inputId, outputId) {\n",
              "  const steps = uploadFilesStep(inputId, outputId);\n",
              "  const outputElement = document.getElementById(outputId);\n",
              "  // Cache steps on the outputElement to make it available for the next call\n",
              "  // to uploadFilesContinue from Python.\n",
              "  outputElement.steps = steps;\n",
              "\n",
              "  return _uploadFilesContinue(outputId);\n",
              "}\n",
              "\n",
              "// This is roughly an async generator (not supported in the browser yet),\n",
              "// where there are multiple asynchronous steps and the Python side is going\n",
              "// to poll for completion of each step.\n",
              "// This uses a Promise to block the python side on completion of each step,\n",
              "// then passes the result of the previous step as the input to the next step.\n",
              "function _uploadFilesContinue(outputId) {\n",
              "  const outputElement = document.getElementById(outputId);\n",
              "  const steps = outputElement.steps;\n",
              "\n",
              "  const next = steps.next(outputElement.lastPromiseValue);\n",
              "  return Promise.resolve(next.value.promise).then((value) => {\n",
              "    // Cache the last promise value to make it available to the next\n",
              "    // step of the generator.\n",
              "    outputElement.lastPromiseValue = value;\n",
              "    return next.value.response;\n",
              "  });\n",
              "}\n",
              "\n",
              "/**\n",
              " * Generator function which is called between each async step of the upload\n",
              " * process.\n",
              " * @param {string} inputId Element ID of the input file picker element.\n",
              " * @param {string} outputId Element ID of the output display.\n",
              " * @return {!Iterable<!Object>} Iterable of next steps.\n",
              " */\n",
              "function* uploadFilesStep(inputId, outputId) {\n",
              "  const inputElement = document.getElementById(inputId);\n",
              "  inputElement.disabled = false;\n",
              "\n",
              "  const outputElement = document.getElementById(outputId);\n",
              "  outputElement.innerHTML = '';\n",
              "\n",
              "  const pickedPromise = new Promise((resolve) => {\n",
              "    inputElement.addEventListener('change', (e) => {\n",
              "      resolve(e.target.files);\n",
              "    });\n",
              "  });\n",
              "\n",
              "  const cancel = document.createElement('button');\n",
              "  inputElement.parentElement.appendChild(cancel);\n",
              "  cancel.textContent = 'Cancel upload';\n",
              "  const cancelPromise = new Promise((resolve) => {\n",
              "    cancel.onclick = () => {\n",
              "      resolve(null);\n",
              "    };\n",
              "  });\n",
              "\n",
              "  // Wait for the user to pick the files.\n",
              "  const files = yield {\n",
              "    promise: Promise.race([pickedPromise, cancelPromise]),\n",
              "    response: {\n",
              "      action: 'starting',\n",
              "    }\n",
              "  };\n",
              "\n",
              "  cancel.remove();\n",
              "\n",
              "  // Disable the input element since further picks are not allowed.\n",
              "  inputElement.disabled = true;\n",
              "\n",
              "  if (!files) {\n",
              "    return {\n",
              "      response: {\n",
              "        action: 'complete',\n",
              "      }\n",
              "    };\n",
              "  }\n",
              "\n",
              "  for (const file of files) {\n",
              "    const li = document.createElement('li');\n",
              "    li.append(span(file.name, {fontWeight: 'bold'}));\n",
              "    li.append(span(\n",
              "        `(${file.type || 'n/a'}) - ${file.size} bytes, ` +\n",
              "        `last modified: ${\n",
              "            file.lastModifiedDate ? file.lastModifiedDate.toLocaleDateString() :\n",
              "                                    'n/a'} - `));\n",
              "    const percent = span('0% done');\n",
              "    li.appendChild(percent);\n",
              "\n",
              "    outputElement.appendChild(li);\n",
              "\n",
              "    const fileDataPromise = new Promise((resolve) => {\n",
              "      const reader = new FileReader();\n",
              "      reader.onload = (e) => {\n",
              "        resolve(e.target.result);\n",
              "      };\n",
              "      reader.readAsArrayBuffer(file);\n",
              "    });\n",
              "    // Wait for the data to be ready.\n",
              "    let fileData = yield {\n",
              "      promise: fileDataPromise,\n",
              "      response: {\n",
              "        action: 'continue',\n",
              "      }\n",
              "    };\n",
              "\n",
              "    // Use a chunked sending to avoid message size limits. See b/62115660.\n",
              "    let position = 0;\n",
              "    do {\n",
              "      const length = Math.min(fileData.byteLength - position, MAX_PAYLOAD_SIZE);\n",
              "      const chunk = new Uint8Array(fileData, position, length);\n",
              "      position += length;\n",
              "\n",
              "      const base64 = btoa(String.fromCharCode.apply(null, chunk));\n",
              "      yield {\n",
              "        response: {\n",
              "          action: 'append',\n",
              "          file: file.name,\n",
              "          data: base64,\n",
              "        },\n",
              "      };\n",
              "\n",
              "      let percentDone = fileData.byteLength === 0 ?\n",
              "          100 :\n",
              "          Math.round((position / fileData.byteLength) * 100);\n",
              "      percent.textContent = `${percentDone}% done`;\n",
              "\n",
              "    } while (position < fileData.byteLength);\n",
              "  }\n",
              "\n",
              "  // All done.\n",
              "  yield {\n",
              "    response: {\n",
              "      action: 'complete',\n",
              "    }\n",
              "  };\n",
              "}\n",
              "\n",
              "scope.google = scope.google || {};\n",
              "scope.google.colab = scope.google.colab || {};\n",
              "scope.google.colab._files = {\n",
              "  _uploadFiles,\n",
              "  _uploadFilesContinue,\n",
              "};\n",
              "})(self);\n",
              "</script> "
            ]
          },
          "metadata": {}
        }
      ]
    },
    {
      "cell_type": "code",
      "source": [
        "!kaggle datasets download -d hariharanalm/river-vs-lake"
      ],
      "metadata": {
        "colab": {
          "base_uri": "https://localhost:8080/"
        },
        "id": "Me3U_Adapdr9",
        "outputId": "42ccded0-146c-4201-ed97-75db1676d3f3"
      },
      "execution_count": null,
      "outputs": [
        {
          "output_type": "stream",
          "name": "stdout",
          "text": [
            "river-vs-lake.zip: Skipping, found more recently modified local copy (use --force to force download)\n"
          ]
        }
      ]
    },
    {
      "cell_type": "code",
      "source": [
        "import zipfile\n",
        "\n",
        "# Ruta al archivo ZIP descargado\n",
        "zip_file_path = '/content/river-vs-lake.zip'\n",
        "\n",
        "# Ruta a la carpeta donde deseas descomprimir el archivo\n",
        "extracted_folder_path = '/content/Imagenes'\n",
        "\n",
        "with zipfile.ZipFile(zip_file_path, 'r') as zip_ref:\n",
        "    zip_ref.extractall(extracted_folder_path)"
      ],
      "metadata": {
        "id": "7l_XweISpf4I"
      },
      "execution_count": null,
      "outputs": []
    },
    {
      "cell_type": "code",
      "source": [
        "carpeta_principal = '/content/Imagenes/River vs Lake'\n",
        "patron = os.path.join(carpeta_principal, '*')\n",
        "subcarpetas = glob.glob(patron)\n",
        "\n",
        "imagenes = []  # Lista para almacenar las imágenes redimensionadas\n",
        "etiquetas = []  # Lista para almacenar las etiquetas correspondientes\n",
        "\n",
        "z = 0\n",
        "for subcarpeta in subcarpetas:\n",
        "    if os.path.isdir(subcarpeta):\n",
        "        print('Subcarpeta:', subcarpeta)\n",
        "\n",
        "        for x in glob.iglob(f'{subcarpeta}/*jpg'):\n",
        "            print(x)\n",
        "            test_image = cv2.imread(x)\n",
        "\n",
        "            img_resized = cv2.resize(test_image, (32, 32))\n",
        "\n",
        "            arreglo_imagen = np.array(img_resized)\n",
        "            imagenes.append(arreglo_imagen)\n",
        "            etiquetas.append(z)\n",
        "\n",
        "        # Después de procesar una subcarpeta, incrementa la etiqueta para la siguiente subcarpeta\n",
        "        z += 1\n",
        "\n"
      ],
      "metadata": {
        "colab": {
          "base_uri": "https://localhost:8080/"
        },
        "id": "0KI3Z4mdxl8c",
        "outputId": "63bf1175-075c-4d27-acf2-4bc2dff2df15"
      },
      "execution_count": null,
      "outputs": [
        {
          "output_type": "stream",
          "name": "stdout",
          "text": [
            "Subcarpeta: /content/Imagenes/River vs Lake/river water\n",
            "/content/Imagenes/River vs Lake/river water/Image_64.jpg\n",
            "/content/Imagenes/River vs Lake/river water/Image_92.jpg\n",
            "/content/Imagenes/River vs Lake/river water/Image_7.jpg\n",
            "/content/Imagenes/River vs Lake/river water/Image_82.jpg\n",
            "/content/Imagenes/River vs Lake/river water/Image_60.jpg\n",
            "/content/Imagenes/River vs Lake/river water/Image_43.jpg\n",
            "/content/Imagenes/River vs Lake/river water/Image_48.jpg\n",
            "/content/Imagenes/River vs Lake/river water/Image_68.jpg\n",
            "/content/Imagenes/River vs Lake/river water/Image_33.jpg\n",
            "/content/Imagenes/River vs Lake/river water/Image_96.jpg\n",
            "/content/Imagenes/River vs Lake/river water/Image_44.jpg\n",
            "/content/Imagenes/River vs Lake/river water/Image_24.jpg\n",
            "/content/Imagenes/River vs Lake/river water/Image_42.jpg\n",
            "/content/Imagenes/River vs Lake/river water/Image_46.jpg\n",
            "/content/Imagenes/River vs Lake/river water/Image_88.jpg\n",
            "/content/Imagenes/River vs Lake/river water/Image_16.jpg\n",
            "/content/Imagenes/River vs Lake/river water/Image_40.jpg\n",
            "/content/Imagenes/River vs Lake/river water/Image_19.jpg\n",
            "/content/Imagenes/River vs Lake/river water/Image_76.jpg\n",
            "/content/Imagenes/River vs Lake/river water/Image_85.jpg\n",
            "/content/Imagenes/River vs Lake/river water/Image_59.jpg\n",
            "/content/Imagenes/River vs Lake/river water/Image_37.jpg\n",
            "/content/Imagenes/River vs Lake/river water/Image_30.jpg\n",
            "/content/Imagenes/River vs Lake/river water/Image_58.jpg\n",
            "/content/Imagenes/River vs Lake/river water/Image_72.jpg\n",
            "/content/Imagenes/River vs Lake/river water/Image_21.jpg\n",
            "/content/Imagenes/River vs Lake/river water/Image_34.jpg\n",
            "/content/Imagenes/River vs Lake/river water/Image_74.jpg\n",
            "/content/Imagenes/River vs Lake/river water/Image_52.jpg\n",
            "/content/Imagenes/River vs Lake/river water/Image_70.jpg\n",
            "/content/Imagenes/River vs Lake/river water/Image_71.jpg\n",
            "/content/Imagenes/River vs Lake/river water/Image_53.jpg\n",
            "/content/Imagenes/River vs Lake/river water/Image_77.jpg\n",
            "/content/Imagenes/River vs Lake/river water/Image_84.jpg\n",
            "/content/Imagenes/River vs Lake/river water/Image_100.jpg\n",
            "/content/Imagenes/River vs Lake/river water/Image_3.jpg\n",
            "/content/Imagenes/River vs Lake/river water/Image_13.jpg\n",
            "/content/Imagenes/River vs Lake/river water/Image_51.jpg\n",
            "/content/Imagenes/River vs Lake/river water/Image_17.jpg\n",
            "/content/Imagenes/River vs Lake/river water/Image_57.jpg\n",
            "/content/Imagenes/River vs Lake/river water/Image_67.jpg\n",
            "/content/Imagenes/River vs Lake/river water/Image_49.jpg\n",
            "/content/Imagenes/River vs Lake/river water/Image_81.jpg\n",
            "/content/Imagenes/River vs Lake/river water/Image_98.jpg\n",
            "/content/Imagenes/River vs Lake/river water/Image_54.jpg\n",
            "/content/Imagenes/River vs Lake/river water/Image_79.jpg\n",
            "/content/Imagenes/River vs Lake/river water/Image_69.jpg\n",
            "/content/Imagenes/River vs Lake/river water/Image_29.jpg\n",
            "/content/Imagenes/River vs Lake/river water/Image_23.jpg\n",
            "/content/Imagenes/River vs Lake/river water/Image_14.jpg\n",
            "/content/Imagenes/River vs Lake/river water/Image_25.jpg\n",
            "/content/Imagenes/River vs Lake/river water/Image_18.jpg\n",
            "/content/Imagenes/River vs Lake/river water/Image_2.jpg\n",
            "/content/Imagenes/River vs Lake/river water/Image_55.jpg\n",
            "/content/Imagenes/River vs Lake/river water/Image_95.jpg\n",
            "/content/Imagenes/River vs Lake/river water/Image_6.jpg\n",
            "/content/Imagenes/River vs Lake/river water/Image_65.jpg\n",
            "/content/Imagenes/River vs Lake/river water/Image_91.jpg\n",
            "/content/Imagenes/River vs Lake/river water/Image_28.jpg\n",
            "/content/Imagenes/River vs Lake/river water/Image_27.jpg\n",
            "/content/Imagenes/River vs Lake/river water/Image_62.jpg\n",
            "/content/Imagenes/River vs Lake/river water/Image_63.jpg\n",
            "/content/Imagenes/River vs Lake/river water/Image_4.jpg\n",
            "/content/Imagenes/River vs Lake/river water/Image_5.jpg\n",
            "/content/Imagenes/River vs Lake/river water/Image_36.jpg\n",
            "/content/Imagenes/River vs Lake/river water/Image_66.jpg\n",
            "/content/Imagenes/River vs Lake/river water/Image_11.jpg\n",
            "/content/Imagenes/River vs Lake/river water/Image_47.jpg\n",
            "/content/Imagenes/River vs Lake/river water/Image_9.jpg\n",
            "/content/Imagenes/River vs Lake/river water/Image_73.jpg\n",
            "/content/Imagenes/River vs Lake/river water/Image_56.jpg\n",
            "/content/Imagenes/River vs Lake/river water/Image_1.jpg\n",
            "/content/Imagenes/River vs Lake/river water/Image_87.jpg\n",
            "/content/Imagenes/River vs Lake/river water/Image_32.jpg\n",
            "/content/Imagenes/River vs Lake/river water/Image_93.jpg\n",
            "/content/Imagenes/River vs Lake/river water/Image_20.jpg\n",
            "/content/Imagenes/River vs Lake/river water/Image_75.jpg\n",
            "/content/Imagenes/River vs Lake/river water/Image_61.jpg\n",
            "/content/Imagenes/River vs Lake/river water/Image_86.jpg\n",
            "/content/Imagenes/River vs Lake/river water/Image_97.jpg\n",
            "/content/Imagenes/River vs Lake/river water/Image_90.jpg\n",
            "/content/Imagenes/River vs Lake/river water/Image_38.jpg\n",
            "/content/Imagenes/River vs Lake/river water/Image_8.jpg\n",
            "/content/Imagenes/River vs Lake/river water/Image_45.jpg\n",
            "/content/Imagenes/River vs Lake/river water/Image_12.jpg\n",
            "/content/Imagenes/River vs Lake/river water/Image_10.jpg\n",
            "/content/Imagenes/River vs Lake/river water/Image_94.jpg\n",
            "/content/Imagenes/River vs Lake/river water/Image_22.jpg\n",
            "/content/Imagenes/River vs Lake/river water/Image_31.jpg\n",
            "/content/Imagenes/River vs Lake/river water/Image_15.jpg\n",
            "/content/Imagenes/River vs Lake/river water/Image_83.jpg\n",
            "Subcarpeta: /content/Imagenes/River vs Lake/lake water\n",
            "/content/Imagenes/River vs Lake/lake water/Image_64.jpg\n",
            "/content/Imagenes/River vs Lake/lake water/Image_7.jpg\n",
            "/content/Imagenes/River vs Lake/lake water/Image_82.jpg\n",
            "/content/Imagenes/River vs Lake/lake water/Image_60.jpg\n",
            "/content/Imagenes/River vs Lake/lake water/Image_43.jpg\n",
            "/content/Imagenes/River vs Lake/lake water/Image_48.jpg\n",
            "/content/Imagenes/River vs Lake/lake water/Image_33.jpg\n",
            "/content/Imagenes/River vs Lake/lake water/Image_44.jpg\n",
            "/content/Imagenes/River vs Lake/lake water/Image_24.jpg\n",
            "/content/Imagenes/River vs Lake/lake water/Image_78.jpg\n",
            "/content/Imagenes/River vs Lake/lake water/Image_42.jpg\n",
            "/content/Imagenes/River vs Lake/lake water/Image_46.jpg\n",
            "/content/Imagenes/River vs Lake/lake water/Image_88.jpg\n",
            "/content/Imagenes/River vs Lake/lake water/Image_16.jpg\n",
            "/content/Imagenes/River vs Lake/lake water/Image_80.jpg\n",
            "/content/Imagenes/River vs Lake/lake water/Image_89.jpg\n",
            "/content/Imagenes/River vs Lake/lake water/Image_19.jpg\n",
            "/content/Imagenes/River vs Lake/lake water/Image_85.jpg\n",
            "/content/Imagenes/River vs Lake/lake water/Image_59.jpg\n",
            "/content/Imagenes/River vs Lake/lake water/Image_37.jpg\n",
            "/content/Imagenes/River vs Lake/lake water/Image_30.jpg\n",
            "/content/Imagenes/River vs Lake/lake water/Image_58.jpg\n",
            "/content/Imagenes/River vs Lake/lake water/Image_72.jpg\n",
            "/content/Imagenes/River vs Lake/lake water/Image_21.jpg\n",
            "/content/Imagenes/River vs Lake/lake water/Image_34.jpg\n",
            "/content/Imagenes/River vs Lake/lake water/Image_74.jpg\n",
            "/content/Imagenes/River vs Lake/lake water/Image_52.jpg\n",
            "/content/Imagenes/River vs Lake/lake water/Image_70.jpg\n",
            "/content/Imagenes/River vs Lake/lake water/Image_71.jpg\n",
            "/content/Imagenes/River vs Lake/lake water/Image_53.jpg\n",
            "/content/Imagenes/River vs Lake/lake water/Image_77.jpg\n",
            "/content/Imagenes/River vs Lake/lake water/Image_84.jpg\n",
            "/content/Imagenes/River vs Lake/lake water/Image_100.jpg\n",
            "/content/Imagenes/River vs Lake/lake water/Image_3.jpg\n",
            "/content/Imagenes/River vs Lake/lake water/Image_13.jpg\n",
            "/content/Imagenes/River vs Lake/lake water/Image_51.jpg\n",
            "/content/Imagenes/River vs Lake/lake water/Image_17.jpg\n",
            "/content/Imagenes/River vs Lake/lake water/Image_50.jpg\n",
            "/content/Imagenes/River vs Lake/lake water/Image_57.jpg\n",
            "/content/Imagenes/River vs Lake/lake water/Image_67.jpg\n",
            "/content/Imagenes/River vs Lake/lake water/Image_49.jpg\n",
            "/content/Imagenes/River vs Lake/lake water/Image_81.jpg\n",
            "/content/Imagenes/River vs Lake/lake water/Image_98.jpg\n",
            "/content/Imagenes/River vs Lake/lake water/Image_79.jpg\n",
            "/content/Imagenes/River vs Lake/lake water/Image_69.jpg\n",
            "/content/Imagenes/River vs Lake/lake water/Image_29.jpg\n",
            "/content/Imagenes/River vs Lake/lake water/Image_23.jpg\n",
            "/content/Imagenes/River vs Lake/lake water/Image_14.jpg\n",
            "/content/Imagenes/River vs Lake/lake water/Image_35.jpg\n",
            "/content/Imagenes/River vs Lake/lake water/Image_18.jpg\n",
            "/content/Imagenes/River vs Lake/lake water/Image_2.jpg\n",
            "/content/Imagenes/River vs Lake/lake water/Image_95.jpg\n",
            "/content/Imagenes/River vs Lake/lake water/Image_6.jpg\n",
            "/content/Imagenes/River vs Lake/lake water/Image_65.jpg\n",
            "/content/Imagenes/River vs Lake/lake water/Image_91.jpg\n",
            "/content/Imagenes/River vs Lake/lake water/Image_28.jpg\n",
            "/content/Imagenes/River vs Lake/lake water/Image_27.jpg\n",
            "/content/Imagenes/River vs Lake/lake water/Image_62.jpg\n",
            "/content/Imagenes/River vs Lake/lake water/Image_63.jpg\n",
            "/content/Imagenes/River vs Lake/lake water/Image_4.jpg\n",
            "/content/Imagenes/River vs Lake/lake water/Image_5.jpg\n",
            "/content/Imagenes/River vs Lake/lake water/Image_41.jpg\n",
            "/content/Imagenes/River vs Lake/lake water/Image_36.jpg\n",
            "/content/Imagenes/River vs Lake/lake water/Image_66.jpg\n",
            "/content/Imagenes/River vs Lake/lake water/Image_11.jpg\n",
            "/content/Imagenes/River vs Lake/lake water/Image_47.jpg\n",
            "/content/Imagenes/River vs Lake/lake water/Image_39.jpg\n",
            "/content/Imagenes/River vs Lake/lake water/Image_9.jpg\n",
            "/content/Imagenes/River vs Lake/lake water/Image_73.jpg\n",
            "/content/Imagenes/River vs Lake/lake water/Image_56.jpg\n",
            "/content/Imagenes/River vs Lake/lake water/Image_1.jpg\n",
            "/content/Imagenes/River vs Lake/lake water/Image_32.jpg\n",
            "/content/Imagenes/River vs Lake/lake water/Image_20.jpg\n",
            "/content/Imagenes/River vs Lake/lake water/Image_75.jpg\n",
            "/content/Imagenes/River vs Lake/lake water/Image_61.jpg\n",
            "/content/Imagenes/River vs Lake/lake water/Image_97.jpg\n",
            "/content/Imagenes/River vs Lake/lake water/Image_90.jpg\n",
            "/content/Imagenes/River vs Lake/lake water/Image_38.jpg\n",
            "/content/Imagenes/River vs Lake/lake water/Image_8.jpg\n",
            "/content/Imagenes/River vs Lake/lake water/Image_26.jpg\n",
            "/content/Imagenes/River vs Lake/lake water/Image_45.jpg\n",
            "/content/Imagenes/River vs Lake/lake water/Image_10.jpg\n",
            "/content/Imagenes/River vs Lake/lake water/Image_22.jpg\n",
            "/content/Imagenes/River vs Lake/lake water/Image_31.jpg\n",
            "/content/Imagenes/River vs Lake/lake water/Image_15.jpg\n",
            "/content/Imagenes/River vs Lake/lake water/Image_83.jpg\n"
          ]
        }
      ]
    },
    {
      "cell_type": "code",
      "source": [
        "etiquetas = np.array(etiquetas)"
      ],
      "metadata": {
        "id": "wtf2T4ycGEjk"
      },
      "execution_count": null,
      "outputs": []
    },
    {
      "cell_type": "code",
      "source": [
        "len(imagenes)"
      ],
      "metadata": {
        "colab": {
          "base_uri": "https://localhost:8080/"
        },
        "id": "H1LMhfG33axP",
        "outputId": "0a9d5137-0d92-4b09-9c0f-d7f68e33a429"
      },
      "execution_count": null,
      "outputs": [
        {
          "output_type": "execute_result",
          "data": {
            "text/plain": [
              "177"
            ]
          },
          "metadata": {},
          "execution_count": 137
        }
      ]
    },
    {
      "cell_type": "code",
      "source": [
        "len(etiquetas)"
      ],
      "metadata": {
        "colab": {
          "base_uri": "https://localhost:8080/"
        },
        "id": "3CqBtQdm3dAs",
        "outputId": "69d2ee4e-b183-4fac-9a5a-efab58c9a2a4"
      },
      "execution_count": null,
      "outputs": [
        {
          "output_type": "execute_result",
          "data": {
            "text/plain": [
              "177"
            ]
          },
          "metadata": {},
          "execution_count": 138
        }
      ]
    },
    {
      "cell_type": "code",
      "source": [
        "images_train, images_test, labels_train, labels_test = train_test_split(imagenes, etiquetas, test_size=0.2, random_state=42)"
      ],
      "metadata": {
        "id": "ozSqxSB5BEZF"
      },
      "execution_count": null,
      "outputs": []
    },
    {
      "cell_type": "code",
      "source": [
        "model = models.Sequential()\n",
        "model.add(layers.Conv2D(32, (3, 3), activation='relu', input_shape=(32, 32, 3)))\n",
        "model.add(layers.MaxPooling2D((2, 2)))\n",
        "model.add(layers.Conv2D(64, (3, 3), activation='relu'))\n",
        "model.add(layers.MaxPooling2D((2, 2)))\n",
        "model.add(layers.Conv2D(64, (3, 3), activation='relu'))"
      ],
      "metadata": {
        "id": "PaDDFhSg_rAa"
      },
      "execution_count": null,
      "outputs": []
    },
    {
      "cell_type": "code",
      "source": [
        "model.summary()"
      ],
      "metadata": {
        "colab": {
          "base_uri": "https://localhost:8080/"
        },
        "id": "g-kpb4a5_vvo",
        "outputId": "24acd466-7759-4ec7-c243-45487307183c"
      },
      "execution_count": null,
      "outputs": [
        {
          "output_type": "stream",
          "name": "stdout",
          "text": [
            "Model: \"sequential_2\"\n",
            "_________________________________________________________________\n",
            " Layer (type)                Output Shape              Param #   \n",
            "=================================================================\n",
            " conv2d_6 (Conv2D)           (None, 30, 30, 32)        896       \n",
            "                                                                 \n",
            " max_pooling2d_4 (MaxPoolin  (None, 15, 15, 32)        0         \n",
            " g2D)                                                            \n",
            "                                                                 \n",
            " conv2d_7 (Conv2D)           (None, 13, 13, 64)        18496     \n",
            "                                                                 \n",
            " max_pooling2d_5 (MaxPoolin  (None, 6, 6, 64)          0         \n",
            " g2D)                                                            \n",
            "                                                                 \n",
            " conv2d_8 (Conv2D)           (None, 4, 4, 64)          36928     \n",
            "                                                                 \n",
            "=================================================================\n",
            "Total params: 56320 (220.00 KB)\n",
            "Trainable params: 56320 (220.00 KB)\n",
            "Non-trainable params: 0 (0.00 Byte)\n",
            "_________________________________________________________________\n"
          ]
        }
      ]
    },
    {
      "cell_type": "code",
      "source": [
        "model.add(layers.Flatten())\n",
        "model.add(layers.Dense(64, activation='relu'))\n",
        "model.add(layers.Dense(10))"
      ],
      "metadata": {
        "id": "lI_hsARt_yJB"
      },
      "execution_count": null,
      "outputs": []
    },
    {
      "cell_type": "code",
      "source": [
        "model.summary()"
      ],
      "metadata": {
        "colab": {
          "base_uri": "https://localhost:8080/"
        },
        "id": "sZX1VEC-_0yl",
        "outputId": "cce19e2a-6f8a-454a-f4ba-948db4c89442"
      },
      "execution_count": null,
      "outputs": [
        {
          "output_type": "stream",
          "name": "stdout",
          "text": [
            "Model: \"sequential_2\"\n",
            "_________________________________________________________________\n",
            " Layer (type)                Output Shape              Param #   \n",
            "=================================================================\n",
            " conv2d_6 (Conv2D)           (None, 30, 30, 32)        896       \n",
            "                                                                 \n",
            " max_pooling2d_4 (MaxPoolin  (None, 15, 15, 32)        0         \n",
            " g2D)                                                            \n",
            "                                                                 \n",
            " conv2d_7 (Conv2D)           (None, 13, 13, 64)        18496     \n",
            "                                                                 \n",
            " max_pooling2d_5 (MaxPoolin  (None, 6, 6, 64)          0         \n",
            " g2D)                                                            \n",
            "                                                                 \n",
            " conv2d_8 (Conv2D)           (None, 4, 4, 64)          36928     \n",
            "                                                                 \n",
            " flatten_2 (Flatten)         (None, 1024)              0         \n",
            "                                                                 \n",
            " dense_4 (Dense)             (None, 64)                65600     \n",
            "                                                                 \n",
            " dense_5 (Dense)             (None, 10)                650       \n",
            "                                                                 \n",
            "=================================================================\n",
            "Total params: 122570 (478.79 KB)\n",
            "Trainable params: 122570 (478.79 KB)\n",
            "Non-trainable params: 0 (0.00 Byte)\n",
            "_________________________________________________________________\n"
          ]
        }
      ]
    },
    {
      "cell_type": "code",
      "source": [
        "model.compile(optimizer='adam',\n",
        "              loss=tf.keras.losses.SparseCategoricalCrossentropy(from_logits=True),\n",
        "              metrics=['accuracy'])\n",
        "\n",
        "history = model.fit(images_train, labels_train, epochs=10,\n",
        "                    validation_data=(images_test, labels_test))"
      ],
      "metadata": {
        "colab": {
          "base_uri": "https://localhost:8080/",
          "height": 477
        },
        "id": "_TKx-Wwy_2kO",
        "outputId": "2ea98b18-1cc6-4781-f1dd-1fedb3441473"
      },
      "execution_count": null,
      "outputs": [
        {
          "output_type": "error",
          "ename": "ValueError",
          "evalue": "ignored",
          "traceback": [
            "\u001b[0;31m---------------------------------------------------------------------------\u001b[0m",
            "\u001b[0;31mValueError\u001b[0m                                Traceback (most recent call last)",
            "\u001b[0;32m<ipython-input-144-41b94d091fef>\u001b[0m in \u001b[0;36m<cell line: 5>\u001b[0;34m()\u001b[0m\n\u001b[1;32m      3\u001b[0m               metrics=['accuracy'])\n\u001b[1;32m      4\u001b[0m \u001b[0;34m\u001b[0m\u001b[0m\n\u001b[0;32m----> 5\u001b[0;31m history = model.fit(images_train, labels_train, epochs=10,\n\u001b[0m\u001b[1;32m      6\u001b[0m                     validation_data=(images_test, labels_test))\n",
            "\u001b[0;32m/usr/local/lib/python3.10/dist-packages/keras/src/utils/traceback_utils.py\u001b[0m in \u001b[0;36merror_handler\u001b[0;34m(*args, **kwargs)\u001b[0m\n\u001b[1;32m     68\u001b[0m             \u001b[0;31m# To get the full stack trace, call:\u001b[0m\u001b[0;34m\u001b[0m\u001b[0;34m\u001b[0m\u001b[0m\n\u001b[1;32m     69\u001b[0m             \u001b[0;31m# `tf.debugging.disable_traceback_filtering()`\u001b[0m\u001b[0;34m\u001b[0m\u001b[0;34m\u001b[0m\u001b[0m\n\u001b[0;32m---> 70\u001b[0;31m             \u001b[0;32mraise\u001b[0m \u001b[0me\u001b[0m\u001b[0;34m.\u001b[0m\u001b[0mwith_traceback\u001b[0m\u001b[0;34m(\u001b[0m\u001b[0mfiltered_tb\u001b[0m\u001b[0;34m)\u001b[0m \u001b[0;32mfrom\u001b[0m \u001b[0;32mNone\u001b[0m\u001b[0;34m\u001b[0m\u001b[0;34m\u001b[0m\u001b[0m\n\u001b[0m\u001b[1;32m     71\u001b[0m         \u001b[0;32mfinally\u001b[0m\u001b[0;34m:\u001b[0m\u001b[0;34m\u001b[0m\u001b[0;34m\u001b[0m\u001b[0m\n\u001b[1;32m     72\u001b[0m             \u001b[0;32mdel\u001b[0m \u001b[0mfiltered_tb\u001b[0m\u001b[0;34m\u001b[0m\u001b[0;34m\u001b[0m\u001b[0m\n",
            "\u001b[0;32m/usr/local/lib/python3.10/dist-packages/keras/src/engine/data_adapter.py\u001b[0m in \u001b[0;36m_check_data_cardinality\u001b[0;34m(data)\u001b[0m\n\u001b[1;32m   1958\u001b[0m             )\n\u001b[1;32m   1959\u001b[0m         \u001b[0mmsg\u001b[0m \u001b[0;34m+=\u001b[0m \u001b[0;34m\"Make sure all arrays contain the same number of samples.\"\u001b[0m\u001b[0;34m\u001b[0m\u001b[0;34m\u001b[0m\u001b[0m\n\u001b[0;32m-> 1960\u001b[0;31m         \u001b[0;32mraise\u001b[0m \u001b[0mValueError\u001b[0m\u001b[0;34m(\u001b[0m\u001b[0mmsg\u001b[0m\u001b[0;34m)\u001b[0m\u001b[0;34m\u001b[0m\u001b[0;34m\u001b[0m\u001b[0m\n\u001b[0m\u001b[1;32m   1961\u001b[0m \u001b[0;34m\u001b[0m\u001b[0m\n\u001b[1;32m   1962\u001b[0m \u001b[0;34m\u001b[0m\u001b[0m\n",
            "\u001b[0;31mValueError\u001b[0m: Data cardinality is ambiguous:\n  x sizes: 32, 32, 32, 32, 32, 32, 32, 32, 32, 32, 32, 32, 32, 32, 32, 32, 32, 32, 32, 32, 32, 32, 32, 32, 32, 32, 32, 32, 32, 32, 32, 32, 32, 32, 32, 32, 32, 32, 32, 32, 32, 32, 32, 32, 32, 32, 32, 32, 32, 32, 32, 32, 32, 32, 32, 32, 32, 32, 32, 32, 32, 32, 32, 32, 32, 32, 32, 32, 32, 32, 32, 32, 32, 32, 32, 32, 32, 32, 32, 32, 32, 32, 32, 32, 32, 32, 32, 32, 32, 32, 32, 32, 32, 32, 32, 32, 32, 32, 32, 32, 32, 32, 32, 32, 32, 32, 32, 32, 32, 32, 32, 32, 32, 32, 32, 32, 32, 32, 32, 32, 32, 32, 32, 32, 32, 32, 32, 32, 32, 32, 32, 32, 32, 32, 32, 32, 32, 32, 32, 32, 32\n  y sizes: 141\nMake sure all arrays contain the same number of samples."
          ]
        }
      ]
    },
    {
      "cell_type": "code",
      "source": [
        "plt.plot(history.history['accuracy'], label='accuracy')\n",
        "plt.plot(history.history['val_accuracy'], label = 'val_accuracy')\n",
        "plt.xlabel('Epoch')\n",
        "plt.ylabel('Accuracy')\n",
        "plt.ylim([0.5, 1])\n",
        "plt.legend(loc='lower right')\n",
        "\n",
        "test_loss, test_acc = model.evaluate(test_images,  test_labels, verbose=2)"
      ],
      "metadata": {
        "id": "cVinRyIWH3oi"
      },
      "execution_count": null,
      "outputs": []
    },
    {
      "cell_type": "code",
      "source": [
        "print(test_acc)"
      ],
      "metadata": {
        "id": "zGYNR9wiH4lF"
      },
      "execution_count": null,
      "outputs": []
    }
  ]
}